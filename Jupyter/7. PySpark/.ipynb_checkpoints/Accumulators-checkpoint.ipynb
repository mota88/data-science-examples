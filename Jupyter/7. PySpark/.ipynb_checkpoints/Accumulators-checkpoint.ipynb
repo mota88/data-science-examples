{
 "cells": [
  {
   "cell_type": "code",
   "execution_count": 1,
   "metadata": {},
   "outputs": [],
   "source": [
    "import findspark\n",
    "findspark.init()\n",
    "\n",
    "from pyspark import SparkConf, SparkContext\n",
    "conf = SparkConf().setMaster('local').setAppName('Mi programa')\n",
    "sc = SparkContext(conf = conf)\n",
    "lines = sc.textFile('ejemplo.txt')"
   ]
  },
  {
   "cell_type": "code",
   "execution_count": 2,
   "metadata": {},
   "outputs": [],
   "source": [
    "py = sc.accumulator(0)\n",
    "sp = sc.accumulator(0)"
   ]
  },
  {
   "cell_type": "code",
   "execution_count": 3,
   "metadata": {},
   "outputs": [],
   "source": [
    "def lenguajes(linea):\n",
    "    global py, sp\n",
    "    if 'Python' in linea:\n",
    "        py += 1\n",
    "        if 'Spark' in linea:\n",
    "            sp += 1\n",
    "        return True\n",
    "    if 'Spark' in linea:\n",
    "        sp += 1\n",
    "        return True\n",
    "    else:\n",
    "        return False\n",
    "\n",
    "valores = lines.filter(lenguajes)"
   ]
  },
  {
   "cell_type": "code",
   "execution_count": 4,
   "metadata": {},
   "outputs": [
    {
     "data": {
      "text/plain": [
       "['| name                   = Apache Spark',\n",
       " '| logo                   = [[File:Apache Spark logo.svg|frameless|250px|Spark Logo]]',\n",
       " '| developer              = [[Apache Spark]]',\n",
       " '| programming language   = [[Scala (programming language)|Scala]]<ref>{{cite web |url=https://spark.apache.org/releases/spark-release-2-0-0.html |title=Spark Release 2.0.0 |quote=MLlib in R: SparkR now offers MLlib APIs [..] Python: PySpark now offers many more MLlib algorithms\"}}</ref>',\n",
       " '| repo                   = {{URL|https://gitbox.apache.org/repos/asf?p&#61;spark.git|Spark Repository}}',\n",
       " '| language               = [[Scala (programming_language)|Scala]], [[Java (programming language)|Java]], [[SQL]], [[Python (programming language)|Python]], [[R (programming language)|R]], [[C Sharp (programming language)|C#]], [[F Sharp (programming language)|F#]]',\n",
       " \"'''Apache Spark''' is an [[Open-source software|open-source]] [[Distributed computing|distributed]] general-purpose [[Cluster computing|cluster-computing]] [[Software framework|framework]]. Spark provides an [[application programming interface|interface]] for programming entire clusters with implicit [[data parallelism]] and [[fault tolerance]]. Originally developed at the [[UC Berkeley|University of California, Berkeley]]'s [[AMPLab]], the Spark [[codebase]] was later donated to the [[Apache Software Foundation]], which has maintained it since.\",\n",
       " 'Apache Spark has its architectural foundation in the resilient distributed dataset (RDD), a read-only [[multiset]] of data items distributed over a cluster of machines, that is maintained in a [[fault-tolerant computing|fault-tolerant]] way.<ref name=\"hc10\">{{cite conference |first1=Matei |last1=Zaharia |first2=Mosharaf |last2=Chowdhury |first3=Michael J. |last3=Franklin |first4=Scott |last4=Shenker |first5=Ion |last5=Stoica |title=Spark: Cluster Computing with Working Sets |conference=USENIX Workshop on Hot Topics in Cloud Computing (HotCloud) |url=https://amplab.cs.berkeley.edu/wp-content/uploads/2011/06/Spark-Cluster-Computing-with-Working-Sets.pdf}}</ref> The Dataframe API was released as an abstraction on top of the RDD, followed by the Dataset API. In Spark 1.x, the RDD was the primary [[application programming interface]] (API), but as of Spark 2.x use of the Dataset API is encouraged<ref>{{cite web |url=https://spark.apache.org/docs/2.2.0/quick-start.html |title=Spark 2.2.0 Quick Start |author=<!--Not stated--> |date=2017-07-11 |website=apache.org |access-date=2017-10-19 |quote=we highly recommend you to switch to use Dataset, which has better performance than RDD}}</ref> even though the RDD API is not [[deprecated]].<ref>{{cite web |url=https://spark.apache.org/docs/2.2.0/api/scala/index.html#deprecated-list |title=Spark 2.2.0 deprecation list |author=<!--Not stated--> |date=2017-07-11 |website=apache.org |access-date=2017-10-10}}</ref><ref>{{cite web |url=https://databricks.com/blog/2016/07/14/a-tale-of-three-apache-spark-apis-rdds-dataframes-and-datasets.html |title=A Tale of Three Apache Spark APIs: RDDs, DataFrames, and Datasets: When to use them and why |last=Damji |first=Jules |date=2016-07-14 |website=databricks.com |access-date=2017-10-19}}</ref> The RDD technology still underlies the Dataset API.<ref>{{cite book |last=Chambers |first=Bill |date=2017-08-10 |title=Spark: The Definitive Guide |chapter-url=http://techbus.safaribooksonline.com/book/operating-systems-and-server-administration/apache/9781491912201/12dot-resilient-distributed-datasets-rdds/about_rdds_html |publisher=[[O\\'Reilly Media]] |chapter=12 |quote=virtually all Spark code you run, where DataFrames or Datasets, compiles down to an RDD }}</ref><ref>{{cite web |url=https://www.janbasktraining.com/blog/what-is-spark/ |title= What is Apache Spark? Spark Tutorial Guide for Beginner |website=janbasktraining.com |access-date=2018-04-13|date= 2018-04-13 }}</ref>',\n",
       " \"Spark and its RDDs were developed in 2012 in response to limitations in the [[MapReduce]] cluster computing [[Programming paradigm|paradigm]], which forces a particular linear [[dataflow]] structure on distributed programs: MapReduce programs read input data from disk, [[Map (parallel pattern)|map]] a function across the data, [[Fold (higher-order function)|reduce]] the results of the map, and store reduction results on disk. Spark's RDDs function as a [[working set]] for distributed programs that offers a (deliberately) restricted form of distributed [[shared memory]].<ref>{{cite conference |first1=Matei |last1=Zaharia |first2=Mosharaf |last2=Chowdhury |first3=Tathagata |last3=Das |first4=Ankur |last4=Dave |first5=Justin |last5=Ma |first6=Murphy |last6=McCauley |first7=Michael |last7=J. |first8=Scott |last8=Shenker |first9=Ion |last9=Stoica |date=2010 |title=Resilient Distributed Datasets: A Fault-Tolerant Abstraction for In-Memory Cluster Computing |url=https://www.usenix.org/system/files/conference/nsdi12/nsdi12-final138.pdf |conference=USENIX Symp. Networked Systems Design and Implementation}}</ref>\",\n",
       " 'Spark facilitates the implementation of both [[iterative algorithm]]s, which visit their data set multiple times in a loop, and interactive/exploratory data analysis, i.e., the repeated [[database]]-style querying of data. The [[latency (engineering)|latency]] of such applications may be reduced by several orders of magnitude compared to [[Apache Hadoop]] MapReduce implementation.{{r|hc10}}<ref>{{cite journal|first1=Reynold| last1=Xin| first2=Josh |last2=Rosen| first3=Matei| last3=Zaharia| first4=Michael| last4=Franklin| first5=Scott| last5=Shenker| first6=Ion| last6=Stoica|title=Shark: SQL and Rich Analytics at Scale| conference=SIGMOD 2013|date=June 2013| url=https://amplab.cs.berkeley.edu/wp-content/uploads/2013/02/shark_sigmod2013.pdf| bibcode=2012arXiv1211.6176X| arxiv=1211.6176}}</ref>',\n",
       " 'Among the class of iterative algorithms are the training algorithms for [[machine learning]] systems, which formed the initial impetus for developing Apache Spark.<ref>{{cite web |title=4 reasons why Spark could jolt Hadoop into hyperdrive |first=Derrick |last=Harris |date=28 June 2014 |url=https://gigaom.com/2014/06/28/4-reasons-why-spark-could-jolt-hadoop-into-hyperdrive/ |website=[[Gigaom]]}}</ref>',\n",
       " 'Apache Spark requires a [[cluster manager]] and a [[Clustered file system|distributed storage system]]. For cluster management, Spark supports standalone (native Spark cluster,  where you can launch a cluster either manually or use the launch scripts provided by the install package. It is also possible to run these daemons on a single machine for testing), [[Apache Hadoop|Hadoop YARN]], [[Apache Mesos]] or [[Kubernetes]]. <ref>{{cite web|url=https://spark.apache.org/docs/2.4.0/cluster-overview.html#cluster-manager-types|title=Cluster Mode Overview - Spark 2.4.0 Documentation - Cluster Manager Types|author=<!--Staff writer(s); no by-line.-->|date=2019-07-09|website=apache.org|publisher=Apache Foundation|access-date=2019-07-09}}</ref> For distributed storage, Spark can interface with a wide variety, including [[Alluxio]], [[Apache Hadoop#Hadoop distributed file system|Hadoop Distributed File System (HDFS)]],<ref>[https://amplab.cs.berkeley.edu/software/ Figure showing Spark in relation to other open-source Software projects including Hadoop]</ref> [[MapR#MapR converged data platform|MapR File System (MapR-FS)]],<ref>[http://doc.mapr.com/display/MapR/Ecosystem+Support+Matrix MapR ecosystem support matrix]</ref> [[Apache Cassandra|Cassandra]],<ref>{{cite mailing list |url=http://mail-archives.apache.org/mod_mbox/cassandra-user/201409.mbox/%3CCABNXB2DE5Apmvn1nNg79+VdPCSZiCsGdt=ZB4s4OF_5JzS60iA@mail.gmail.com%3E |title=Re: cassandra + spark / pyspark |date=2014-09-10 |access-date=2014-11-21 |mailing-list=Cassandra User |last=Doan |first=DuyHai }}</ref> [[OpenStack#Object Storage (Swift)|OpenStack Swift]], [[Amazon S3]], [[Apache Kudu|Kudu]], [[Lustre (file system)|Lustre file system]],<ref>{{cite book|chapter=Characterization and Optimization of Memory-Resident MapReduce on HPC Systems|publisher=IEEE|date=May 2014|doi=10.1109/IPDPS.2014.87|isbn=978-1-4799-3800-1|title=2014 IEEE 28th International Parallel and Distributed Processing Symposium|last1=Wang|first1=Yandong|last2=Goldstone|first2=Robin|last3=Yu|first3=Weikuan|last4=Wang|first4=Teng|pages=799–808|s2cid=11157612}}</ref> or a custom solution can be implemented. Spark also supports a pseudo-distributed local mode, usually used only for development or testing purposes, where distributed storage is not required and the local file system can be used instead; in such a scenario, Spark is run on a single machine with one executor per [[CPU core]].',\n",
       " '===Spark Core===',\n",
       " 'Spark Core is the foundation of the overall project. It provides distributed task dispatching, scheduling, and basic [[I/O interface|I/O]] functionalities, exposed through an application programming interface (for [[Java (programming language)|Java]], [[Python (programming language)|Python]], [[Scala (programming language)|Scala]], [[.NET Core|.NET]]<ref name=\":1\">{{Citation|title=dotnet/spark|date=2020-09-14|url=https://github.com/dotnet/spark|publisher=.NET Platform|access-date=2020-09-14}}</ref> and [[R (programming language)|R]]) centered on the RDD [[Abstraction (computer science)|abstraction]] (the Java API is available for other JVM languages, but is also usable for some other non-JVM languages that can connect to the JVM, such as [[Julia (programming language)|Julia]]<ref>{{Cite web | url=https://github.com/dfdx/Spark.jl |title =GitHub - DFDX/Spark.jl: Julia binding for Apache Spark.|date = 2019-05-24}}</ref>). This interface mirrors a [[functional programming|functional]]/[[higher-order programming|higher-order]] model of programming: a \"driver\" program invokes parallel operations such as map, [[Filter (computer science)|filter]] or reduce on an RDD by passing a function to Spark, which then schedules the function\\'s execution in parallel on the cluster.{{r|hc10}} These operations, and additional ones such as [[Join (database)|joins]], take RDDs as input and produce new RDDs. RDDs are [[Immutable object|immutable]] and their operations are [[lazy evaluation|lazy]]; fault-tolerance is achieved by keeping track of the \"lineage\" of each RDD (the sequence of operations that produced it) so that it can be reconstructed in the case of data loss. RDDs can contain any type of Python, .NET, Java, or Scala objects.',\n",
       " \"Besides the RDD-oriented functional style of programming, Spark provides two restricted forms of shared variables: ''broadcast variables'' reference read-only data that needs to be available on all nodes, while ''accumulators'' can be used to program reductions in an [[imperative programming|imperative]] style.{{r|hc10}}\",\n",
       " 'val conf = new SparkConf().setAppName(\"wiki_test\") // create a spark config object',\n",
       " 'val sc = new SparkContext(conf) // Create a spark context',\n",
       " '===Spark SQL===',\n",
       " 'Spark [[SQL]] is a component on top of Spark Core that introduced a data abstraction called DataFrames,{{efn|Called SchemaRDDs before Spark 1.3<ref>{{Cite web | url=https://spark.apache.org/releases/spark-release-1-3-0.html |title = Spark Release 1.3.0 &#124; Apache Spark}}</ref>}} which provides support for structured and [[semi-structured data]]. Spark SQL provides a [[domain-specific language]] (DSL) to manipulate DataFrames in [[Scala (programming language)|Scala]], [[Java (programming language)|Java]], [[Python (programming language)|Python]] or [[.NET Core|.NET]].<ref name=\":1\" /> It also provides SQL language support, with [[command-line interface]]s and [[Open Database Connectivity|ODBC]]/[[Java Database Connectivity|JDBC]] server. Although DataFrames lack the compile-time type-checking afforded by RDDs, as of Spark 2.0, the strongly typed DataSet is fully supported by Spark SQL as well.',\n",
       " 'import org.apache.spark.sql.SparkSession',\n",
       " 'val spark = SparkSession.builder().getOrCreate() // Create a Spark session object',\n",
       " '===Spark Streaming===',\n",
       " \"Spark Streaming uses Spark Core's fast scheduling capability to perform [[Event stream processing|streaming analytics]]. It ingests data in mini-batches and performs RDD transformations on those mini-batches of data. This design enables the same set of application code written for batch analytics to be used in streaming analytics, thus facilitating easy implementation of [[lambda architecture]].<ref>{{Cite web|url=https://www.pluralsight.com/courses/spark-kafka-cassandra-applying-lambda-architecture|title=Applying the Lambda Architecture with Spark, Kafka, and Cassandra {{!}} Pluralsight|website=www.pluralsight.com|access-date=2016-11-20}}</ref><ref>{{cite web |url=http://blog.cloudera.com/blog/2014/08/building-lambda-architecture-with-spark-streaming/ |title=Building Lambda Architecture with Spark Streaming |last1=Shapira |first1=Gwen |date=29 August 2014 |website=cloudera.com |publisher=Cloudera |access-date=17 June 2016 |quote=re-use the same aggregates we wrote for our batch application on a real-time data stream |archive-url=https://web.archive.org/web/20160614022751/http://blog.cloudera.com/blog/2014/08/building-lambda-architecture-with-spark-streaming/ |archive-date=14 June 2016 |url-status=dead }}</ref> However, this convenience comes with the penalty of latency equal to the mini-batch duration. Other streaming data engines that process event by event rather than in mini-batches include [[Storm (event processor)|Storm]] and the streaming component of [[Apache Flink|Flink]].<ref>{{cite book |chapter= Benchmarking Streaming Computation Engines: Storm, Flink and Spark Streaming |date=May 2016 |publisher=IEEE |doi=10.1109/IPDPSW.2016.138 |title=2016 IEEE International Parallel and Distributed Processing Symposium Workshops (IPDPSW) |pages=1789–1792 |last1=Chintapalli |first1=Sanket |last2=Dagit |first2=Derek |last3=Evans |first3=Bobby |last4=Farivar |first4=Reza |last5=Graves |first5=Thomas |last6=Holderbaugh |first6=Mark |last7=Liu |first7=Zhuo |last8=Nusbaum |first8=Kyle |last9=Patil |first9=Kishorkumar |last10=Peng |first10=Boyang Jerry |last11=Poulosky |first11=Paul |isbn=978-1-5090-3682-0 |s2cid=2180634 }}</ref> Spark Streaming has support built-in to consume from [[Apache Kafka|Kafka]], [[Apache Flume|Flume]], [[Twitter#Implementation|Twitter]], [[ZeroMQ]], [[Amazon Web Services#Database|Kinesis]], and [[Network socket|TCP/IP sockets]].<ref>{{cite web |url=https://www.sigmoid.com/getting-data-into-spark-streaming/ |title=Getting Data into Spark Streaming |last1=Kharbanda |first1=Arush |date=17 March 2015 |website=sigmoid.com |publisher=Sigmoid (Sunnyvale, California IT product company) |access-date=7 July 2016 |archive-url=https://web.archive.org/web/20160815025917/https://www.sigmoid.com/getting-data-into-spark-streaming/ |archive-date=15 August 2016 |url-status=dead }}</ref>\",\n",
       " 'In Spark 2.x, a separate technology based on Datasets, called Structured Streaming, that has a higher-level interface is also provided to support streaming.<ref>{{cite web |url=https://databricks.com/blog/2016/07/28/structured-streaming-in-apache-spark.html |title=Structured Streaming In Apache Spark: A new high-level API for streaming |last=Zaharia |first=Matei |date=2016-07-28 |website=databricks.com |access-date=2017-10-19}}</ref>',\n",
       " 'Spark can be deployed in a traditional [[On-premises software|on-premises]] [[data center]] as well as in the [[Cloud computing|cloud]].',\n",
       " 'Spark MLlib is a [[Distributed computing|distributed]] machine-learning framework on top of Spark Core that, due in large part to the distributed memory-based Spark architecture, is as much as nine times as fast as the disk-based implementation used by [[Apache Mahout]] (according to benchmarks done by the MLlib developers against the [[Linear regression|alternating least squares]] (ALS) implementations, and before Mahout itself gained a Spark interface), and [[Scale (computing)|scales]] better than [[Vowpal Wabbit]].<ref>{{cite web |url=http://www.slideshare.net/chaochen5496/mlllib-sparkmeetup8613finalreduced/68 |title=Spark Meetup: MLbase, Distributed Machine Learning with Spark |last1=Sparks |first1=Evan |last2=Talwalkar |first2=Ameet |date=2013-08-06 |website=slideshare.net |publisher=Spark User Meetup, San Francisco, California |access-date=10 February 2014}}</ref> Many common machine learning and statistical algorithms have been implemented and are shipped with MLlib which simplifies large scale machine learning [[Pipeline (software)|pipelines]], including:',\n",
       " '* [[summary statistics]], [[Correlation and dependence|correlations]], [[stratified sampling]], [[hypothesis testing]], random data generation<ref>{{Cite web|title = MLlib {{!}} Apache Spark|url = http://spark.apache.org/mllib/|website = spark.apache.org|access-date = 2016-01-18}}</ref>',\n",
       " 'GraphX is a distributed [[Graph (abstract data type)|graph-processing]] framework on top of Apache Spark. Because it is based on RDDs, which are immutable, graphs are immutable and thus GraphX is unsuitable for graphs that need to be updated, let alone in a transactional manner like a [[graph database]].<ref>{{cite web |url=http://www.slideshare.net/SparkSummit/finding-graph-isomorphisms-in-graphx-and-graphframes/11 |title=Finding Graph Isomorphisms In GraphX And GraphFrames: Graph Processing vs. Graph Database |last1=Malak |first1=Michael |date=14 June 2016 |website=slideshare.net |publisher=sparksummit.org |access-date=11 July 2016}}</ref> GraphX provides two separate APIs for implementation of massively parallel algorithms (such as [[PageRank]]): a [[Graph database#Distributed processing|Pregel]] abstraction, and a more general MapReduce-style API.<ref>{{cite book |last=Malak |first=Michael |date=1 July 2016 |title=Spark GraphX in Action |url=https://books.google.com/books?id=8XcPjwEACAAJ |publisher=Manning |page=89 |isbn=9781617292521 |quote=Pregel and its little sibling aggregateMessages() are the cornerstones of graph processing in GraphX. ... algorithms that require more flexibility for the terminating condition have to be implemented using aggregateMessages()}}</ref> Unlike its predecessor Bagel, which was formally deprecated in Spark 1.6, GraphX has full support for property graphs (graphs where properties can be attached to edges and vertices).<ref>{{cite web |url=http://www.slideshare.net/SparkSummit/finding-graph-isomorphisms-in-graphx-and-graphframes/15 |title=Finding Graph Isomorphisms In GraphX And GraphFrames: Graph Processing vs. Graph Database |last1=Malak |first1=Michael |date=14 June 2016 |website=slideshare.net |publisher=sparksummit.org |access-date=11 July 2016}}</ref>',\n",
       " 'GraphX can be viewed as being the Spark in-memory version of [[Apache Giraph]], which utilized Hadoop disk-based MapReduce.<ref>{{cite book |last=Malak |first=Michael |date=1 July 2016 |title=Spark GraphX in Action |url=https://books.google.com/books?id=8XcPjwEACAAJ |publisher=Manning |page=9 |isbn=9781617292521 |quote=Giraph is limited to slow Hadoop Map/Reduce}}</ref>',\n",
       " \"Like Apache Spark, GraphX initially started as a research project at UC Berkeley's AMPLab and Databricks, and was later donated to the Apache Software Foundation and the Spark project.<ref>{{cite journal|first1=Joseph| last1=Gonzalez| first2=Reynold |last2=Xin| first3=Ankur| last3=Dave| first4=Daniel| last4=Crankshaw| first5=Michael| last5=Franklin| first6=Ion| last6=Stoica|title=GraphX: Graph Processing in a Distributed Dataflow Framework| conference=OSDI 2014|date=Oct 2014| url=https://www.usenix.org/system/files/conference/osdi14/osdi14-paper-gonzalez.pdf}}</ref>\",\n",
       " 'Apache Spark has built-in support for Scala, Java, R, and Python with 3rd party support for the .net languages,<ref>[https://dotnet.microsoft.com/apps/data/spark]</ref> Julia,<ref>[https://github.com/dfdx/Spark.jl]</ref> and more.',\n",
       " 'Spark was initially started by [[Matei Zaharia]] at UC Berkeley\\'s AMPLab in 2009, and open sourced in 2010 under a [[BSD licenses|BSD license]].<ref name=\":0\">{{Cite news|url=https://www.computerweekly.com/feature/Apache-Spark-speeds-up-big-data-decision-making|title=Apache Spark speeds up big data decision-making|last=Clark|first=Lindsay|work=ComputerWeekly.com|access-date=2018-05-16|language=en-GB}}</ref>',\n",
       " 'In 2013, the project was donated to the Apache Software Foundation and switched its license to [[Apache License|Apache 2.0]]. In February 2014, Spark became a [[Apache Software Foundation#Projects|Top-Level Apache Project]].<ref>{{cite web |url=https://blogs.apache.org/foundation/entry/the_apache_software_foundation_announces50 |title=The Apache Software Foundation Announces Apache&#8482 Spark&#8482 as a Top-Level Project |author=<!--Staff writer(s); no by-line.--> |date=27 February 2014 |website=apache.org |publisher=Apache Software Foundation |access-date=4 March 2014}}</ref>',\n",
       " 'In November 2014, Spark founder M. Zaharia\\'s company [[Databricks]] set a new world record in large scale sorting using Spark.<ref>[http://databricks.com/blog/2014/11/05/spark-officially-sets-a-new-record-in-large-scale-sorting.html Spark officially sets a new record in large-scale sorting]</ref><ref name=\":0\" />',\n",
       " 'Spark had in excess of 1000 contributors in 2015,<ref>[https://www.openhub.net/p/apache-spark Open HUB Spark development activity]</ref> making it one of the most active projects in the Apache Software Foundation<ref>{{cite web |url=https://blogs.apache.org/foundation/entry/the_apache_software_foundation_announces50 |title=The Apache Software Foundation Announces Apache&#8482 Spark&#8482 as a Top-Level Project |author=<!--Staff writer(s); no by-line.--> |date=27 February 2014 |website=apache.org |publisher=Apache Software Foundation |access-date=4 March 2014}}</ref> and one of the most active open source [[big data]] projects.',\n",
       " '| 2020-10-12<ref>{{cite web|author=<!--Not stated-->|title=Spark News|url=https://spark.apache.org/news/spark-2-4-7-released.html|website=apache.org}}</ref>',\n",
       " '| 2020-10-02<ref>{{cite web|author=<!--Not stated-->|title=Spark News|url=https://spark.apache.org/news/spark-3-0-1-released.html|website=apache.org}}</ref>',\n",
       " '{{DEFAULTSORT:Spark}}',\n",
       " '[[Category:Apache Software Foundation projects|Spark]]']"
      ]
     },
     "execution_count": 4,
     "metadata": {},
     "output_type": "execute_result"
    }
   ],
   "source": [
    "valores.collect()"
   ]
  },
  {
   "cell_type": "code",
   "execution_count": 5,
   "metadata": {},
   "outputs": [
    {
     "data": {
      "text/plain": [
       "Accumulator<id=0, value=5>"
      ]
     },
     "execution_count": 5,
     "metadata": {},
     "output_type": "execute_result"
    }
   ],
   "source": [
    "py"
   ]
  },
  {
   "cell_type": "code",
   "execution_count": 6,
   "metadata": {},
   "outputs": [
    {
     "data": {
      "text/plain": [
       "Accumulator<id=1, value=38>"
      ]
     },
     "execution_count": 6,
     "metadata": {},
     "output_type": "execute_result"
    }
   ],
   "source": [
    "sp"
   ]
  },
  {
   "cell_type": "code",
   "execution_count": null,
   "metadata": {},
   "outputs": [],
   "source": []
  }
 ],
 "metadata": {
  "kernelspec": {
   "display_name": "Python 3",
   "language": "python",
   "name": "python3"
  },
  "language_info": {
   "codemirror_mode": {
    "name": "ipython",
    "version": 3
   },
   "file_extension": ".py",
   "mimetype": "text/x-python",
   "name": "python",
   "nbconvert_exporter": "python",
   "pygments_lexer": "ipython3",
   "version": "3.8.5"
  }
 },
 "nbformat": 4,
 "nbformat_minor": 4
}
