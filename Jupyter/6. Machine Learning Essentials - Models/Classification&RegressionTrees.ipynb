{
 "cells": [
  {
   "cell_type": "code",
   "execution_count": 2,
   "metadata": {},
   "outputs": [],
   "source": [
    "import pandas as pd\n",
    "import numpy as np\n",
    "from sklearn import tree\n",
    "from sklearn.metrics import r2_score\n",
    "\n",
    "df = pd.read_csv(\"Z:/csv/casos_diagnostico_ccaa.csv\")\n",
    "df = df.dropna(subset=['num_casos'])\n",
    "df = df.sample(frac=1)\n",
    "dftest = df.tail(3648)\n",
    "df = df.head(3648)"
   ]
  },
  {
   "cell_type": "code",
   "execution_count": 8,
   "metadata": {},
   "outputs": [],
   "source": [
    "clf = tree.DecisionTreeClassifier()\n",
    "\n",
    "columns = ['num_casos_prueba_pcr','num_casos_prueba_ag','num_casos_test_ac','num_casos_prueba_elisa','num_casos_prueba_desconocida']\n",
    "dfaux1 = df.reindex(columns=columns)\n",
    "dfaux1.fillna(0, inplace=True)\n",
    "dfaux1[columns] = dfaux1[columns].astype(int)\n",
    "dfaux2 = dftest.reindex(columns=columns)\n",
    "dfaux2.fillna(0, inplace=True)\n",
    "dfaux2[columns] = dfaux2[columns].astype(int)\n",
    "\n",
    "X = dfaux1[['num_casos_prueba_pcr','num_casos_prueba_ag','num_casos_test_ac','num_casos_prueba_elisa','num_casos_prueba_desconocida']]\n",
    "X_test = dfaux2[['num_casos_prueba_pcr','num_casos_prueba_ag','num_casos_test_ac','num_casos_prueba_elisa','num_casos_prueba_desconocida']]\n",
    "Y = df['num_casos'] > 50\n",
    "Y_test = dftest['num_casos'] > 50\n",
    "\n",
    "clf = clf.fit(X,Y)\n",
    "Y_pred = clf.predict(X)\n",
    "Y_pred_test = clf.predict(X_test)\n",
    "\n",
    "# param. to modify the tree: max_depth , min_samples_split / min_samples_leaf , max_features"
   ]
  },
  {
   "cell_type": "code",
   "execution_count": 5,
   "metadata": {},
   "outputs": [
    {
     "data": {
      "text/plain": [
       "0.9994517543859649"
      ]
     },
     "execution_count": 5,
     "metadata": {},
     "output_type": "execute_result"
    }
   ],
   "source": [
    "np.mean(Y == Y_pred)"
   ]
  },
  {
   "cell_type": "code",
   "execution_count": 6,
   "metadata": {},
   "outputs": [
    {
     "data": {
      "text/plain": [
       "0.9945175438596491"
      ]
     },
     "execution_count": 6,
     "metadata": {},
     "output_type": "execute_result"
    }
   ],
   "source": [
    "np.mean(Y_test == Y_pred_test)"
   ]
  },
  {
   "cell_type": "code",
   "execution_count": 7,
   "metadata": {},
   "outputs": [
    {
     "name": "stdout",
     "output_type": "stream",
     "text": [
      "R cuadrado:  0.9999933373289377\n",
      "R cuadrado test:  0.9956265544528836\n"
     ]
    }
   ],
   "source": [
    "clf = tree.DecisionTreeRegressor()\n",
    "\n",
    "Y = df['num_casos']\n",
    "\n",
    "Y_test = dftest['num_casos']\n",
    "\n",
    "clf = clf.fit(X,Y)\n",
    "Y_pred = clf.predict(X)\n",
    "Y_pred_test = clf.predict(X_test)\n",
    "\n",
    "print('R cuadrado: ', r2_score(Y, Y_pred))\n",
    "print('R cuadrado test: ', r2_score(Y_test, Y_pred_test))"
   ]
  },
  {
   "cell_type": "code",
   "execution_count": null,
   "metadata": {},
   "outputs": [],
   "source": []
  }
 ],
 "metadata": {
  "kernelspec": {
   "display_name": "Python 3",
   "language": "python",
   "name": "python3"
  },
  "language_info": {
   "codemirror_mode": {
    "name": "ipython",
    "version": 3
   },
   "file_extension": ".py",
   "mimetype": "text/x-python",
   "name": "python",
   "nbconvert_exporter": "python",
   "pygments_lexer": "ipython3",
   "version": "3.8.5"
  }
 },
 "nbformat": 4,
 "nbformat_minor": 4
}
