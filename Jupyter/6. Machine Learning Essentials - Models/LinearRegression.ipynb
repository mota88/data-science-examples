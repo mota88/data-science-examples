{
 "cells": [
  {
   "cell_type": "code",
   "execution_count": 13,
   "metadata": {},
   "outputs": [],
   "source": [
    "import pandas as pd\n",
    "import numpy as np\n",
    "from sklearn import datasets, linear_model\n",
    "from sklearn.metrics import mean_squared_error, r2_score\n",
    "import matplotlib.pyplot as plt\n",
    "\n",
    "df = pd.read_csv(\"Z:/csv/casos_diagnostico_ccaa.csv\")"
   ]
  },
  {
   "cell_type": "code",
   "execution_count": 14,
   "metadata": {},
   "outputs": [],
   "source": [
    "df = df.dropna(subset = ['num_casos'])\n",
    "df = df.sample(frac=1)\n",
    "Y = df['num_casos']\n",
    "X = df[['num_casos_prueba_pcr']]"
   ]
  },
  {
   "cell_type": "code",
   "execution_count": 5,
   "metadata": {},
   "outputs": [
    {
     "name": "stdout",
     "output_type": "stream",
     "text": [
      "Coeficientes:  [1.13505243]\n",
      "R cuadrado:  0.9268651731121323\n"
     ]
    }
   ],
   "source": [
    "regr = linear_model.LinearRegression()\n",
    "regr.fit(X, Y)\n",
    "\n",
    "print('Coeficientes: ',regr.coef_)\n",
    "Y_pred = regr.predict(X)\n",
    "print('R cuadrado: ',r2_score(Y,Y_pred))"
   ]
  },
  {
   "cell_type": "code",
   "execution_count": 6,
   "metadata": {},
   "outputs": [
    {
     "data": {
      "image/png": "[encoded data removed]",
      "text/plain": [
       "<Figure size 432x288 with 1 Axes>"
      ]
     },
     "metadata": {
      "needs_background": "light"
     },
     "output_type": "display_data"
    }
   ],
   "source": [
    "plt.scatter(X[1:10000],Y[1:10000],color='black')\n",
    "plt.plot(X[1:10000],Y_pred[1:10000],color='blue')\n",
    "plt.show()"
   ]
  },
  {
   "cell_type": "code",
   "execution_count": 16,
   "metadata": {},
   "outputs": [],
   "source": [
    "columns = ['num_casos_prueba_pcr','num_casos_prueba_ag','num_casos_test_ac','num_casos_prueba_elisa','num_casos_prueba_desconocida']\n",
    "dfaux = df.reindex(columns=columns)\n",
    "dfaux.fillna(0, inplace=True)\n",
    "dfaux[columns] = dfaux[columns].astype(int)\n",
    "X = dfaux[['num_casos_prueba_pcr','num_casos_prueba_ag','num_casos_test_ac','num_casos_prueba_elisa','num_casos_prueba_desconocida']]\n",
    "\n",
    "df['fecha'] = df['fecha'].apply(str)\n",
    "\n",
    "dummies = pd.get_dummies(data=df[['ccaa_iso','fecha']])\n",
    "X = dummies.add(X,fill_value=0)"
   ]
  },
  {
   "cell_type": "code",
   "execution_count": 17,
   "metadata": {},
   "outputs": [
    {
     "data": {
      "text/plain": [
       "Index(['ccaa_iso_AN', 'ccaa_iso_AR', 'ccaa_iso_AS', 'ccaa_iso_CB',\n",
       "       'ccaa_iso_CE', 'ccaa_iso_CL', 'ccaa_iso_CM', 'ccaa_iso_CN',\n",
       "       'ccaa_iso_CT', 'ccaa_iso_EX',\n",
       "       ...\n",
       "       'fecha_2021-01-14', 'fecha_2021-01-15', 'fecha_2021-01-16',\n",
       "       'fecha_2021-01-17', 'fecha_2021-01-18', 'num_casos_prueba_ag',\n",
       "       'num_casos_prueba_desconocida', 'num_casos_prueba_elisa',\n",
       "       'num_casos_prueba_pcr', 'num_casos_test_ac'],\n",
       "      dtype='object', length=408)"
      ]
     },
     "execution_count": 17,
     "metadata": {},
     "output_type": "execute_result"
    }
   ],
   "source": [
    "X.columns"
   ]
  },
  {
   "cell_type": "code",
   "execution_count": 19,
   "metadata": {},
   "outputs": [
    {
     "name": "stdout",
     "output_type": "stream",
     "text": [
      "R cuadrado:  0.9999655148402989\n"
     ]
    }
   ],
   "source": [
    "Y = df['num_casos']\n",
    "regr = linear_model.LinearRegression()\n",
    "regr.fit(X, Y)\n",
    "\n",
    "#print('Coeficientes: ',regr.coef_)\n",
    "Y_pred = regr.predict(X)\n",
    "print('R cuadrado: ',r2_score(Y,Y_pred))"
   ]
  },
  {
   "cell_type": "code",
   "execution_count": 20,
   "metadata": {},
   "outputs": [],
   "source": [
    "X = X.add(df[['num_casos']],fill_value=0)"
   ]
  },
  {
   "cell_type": "code",
   "execution_count": 21,
   "metadata": {},
   "outputs": [
    {
     "name": "stdout",
     "output_type": "stream",
     "text": [
      "R cuadrado:  1.0\n"
     ]
    }
   ],
   "source": [
    "regr = linear_model.LinearRegression()\n",
    "regr.fit(X, Y)\n",
    "\n",
    "#print('Coeficientes: ',regr.coef_)\n",
    "Y_pred = regr.predict(X)\n",
    "print('R cuadrado: ',r2_score(Y,Y_pred))"
   ]
  },
  {
   "cell_type": "code",
   "execution_count": null,
   "metadata": {},
   "outputs": [],
   "source": [
    "#the model was already almost perfect (99%), now it's perfect - probable something is 'wrong'"
   ]
  }
 ],
 "metadata": {
  "kernelspec": {
   "display_name": "Python 3",
   "language": "python",
   "name": "python3"
  },
  "language_info": {
   "codemirror_mode": {
    "name": "ipython",
    "version": 3
   },
   "file_extension": ".py",
   "mimetype": "text/x-python",
   "name": "python",
   "nbconvert_exporter": "python",
   "pygments_lexer": "ipython3",
   "version": "3.8.5"
  }
 },
 "nbformat": 4,
 "nbformat_minor": 4
}
