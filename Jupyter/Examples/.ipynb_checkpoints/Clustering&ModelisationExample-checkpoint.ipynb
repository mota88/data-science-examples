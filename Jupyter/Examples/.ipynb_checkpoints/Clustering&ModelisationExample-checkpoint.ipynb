{
 "cells": [
  {
   "cell_type": "markdown",
   "metadata": {},
   "source": [
    "# Clustering"
   ]
  },
  {
   "cell_type": "code",
   "execution_count": 1,
   "metadata": {},
   "outputs": [],
   "source": [
    "import pandas as pd\n",
    "import numpy as np\n",
    "import matplotlib.pyplot as plt\n",
    "\n",
    "df = pd.read_csv(\"Z:/csv/2008.csv\")\n",
    "df = df.dropna(subset=['Distance','ArrDelay'])"
   ]
  },
  {
   "cell_type": "code",
   "execution_count": 2,
   "metadata": {},
   "outputs": [],
   "source": [
    "df = df[df.ArrDelay > 120]"
   ]
  },
  {
   "cell_type": "code",
   "execution_count": 3,
   "metadata": {},
   "outputs": [],
   "source": [
    "df = df[df.Distance > 2000]"
   ]
  },
  {
   "cell_type": "code",
   "execution_count": 4,
   "metadata": {},
   "outputs": [
    {
     "name": "stderr",
     "output_type": "stream",
     "text": [
      "C:\\ProgramData\\Anaconda3\\lib\\site-packages\\sklearn\\cluster\\_kmeans.py:938: FutureWarning: 'n_jobs' was deprecated in version 0.23 and will be removed in 0.25.\n",
      "  warnings.warn(\"'n_jobs' was deprecated in version 0.23 and will be\"\n"
     ]
    },
    {
     "data": {
      "image/png": "[encoded data removed]",
      "text/plain": [
       "<Figure size 432x288 with 1 Axes>"
      ]
     },
     "metadata": {
      "needs_background": "light"
     },
     "output_type": "display_data"
    }
   ],
   "source": [
    "from sklearn.cluster import KMeans\n",
    "kmeans = KMeans(n_clusters=6,n_jobs=-1).fit(df[['ArrDelay','Distance']]) #order matters!\n",
    "plt.scatter(df['ArrDelay'],df['Distance'],c=kmeans.labels_)\n",
    "plt.xlabel('Retraso')\n",
    "plt.ylabel('Distancia')\n",
    "plt.show()"
   ]
  },
  {
   "cell_type": "code",
   "execution_count": 5,
   "metadata": {},
   "outputs": [
    {
     "data": {
      "text/plain": [
       "array([[ 193.53163926, 2632.94419532],\n",
       "       [ 248.84210526, 4549.46052632],\n",
       "       [ 183.63702801, 2179.55217215],\n",
       "       [ 631.65196078, 2491.92647059],\n",
       "       [ 253.30487805, 3660.53658537],\n",
       "       [ 189.5391989 , 2435.33926737]])"
      ]
     },
     "execution_count": 5,
     "metadata": {},
     "output_type": "execute_result"
    }
   ],
   "source": [
    "kmeans.cluster_centers_"
   ]
  },
  {
   "cell_type": "code",
   "execution_count": 6,
   "metadata": {},
   "outputs": [],
   "source": [
    "df['Group'] = kmeans.labels_"
   ]
  },
  {
   "cell_type": "code",
   "execution_count": 7,
   "metadata": {},
   "outputs": [],
   "source": [
    "dfgroup = df[df['Group'] == 3] # this depends on the execution? because the kmeans.clester_centers_ changes every time you run it"
   ]
  },
  {
   "cell_type": "code",
   "execution_count": 8,
   "metadata": {},
   "outputs": [
    {
     "data": {
      "text/html": [
       "<div>\n",
       "<style scoped>\n",
       "    .dataframe tbody tr th:only-of-type {\n",
       "        vertical-align: middle;\n",
       "    }\n",
       "\n",
       "    .dataframe tbody tr th {\n",
       "        vertical-align: top;\n",
       "    }\n",
       "\n",
       "    .dataframe thead th {\n",
       "        text-align: right;\n",
       "    }\n",
       "</style>\n",
       "<table border=\"1\" class=\"dataframe\">\n",
       "  <thead>\n",
       "    <tr style=\"text-align: right;\">\n",
       "      <th></th>\n",
       "      <th>count</th>\n",
       "      <th>mean</th>\n",
       "      <th>std</th>\n",
       "      <th>min</th>\n",
       "      <th>25%</th>\n",
       "      <th>50%</th>\n",
       "      <th>75%</th>\n",
       "      <th>max</th>\n",
       "    </tr>\n",
       "    <tr>\n",
       "      <th>DayOfWeek</th>\n",
       "      <th></th>\n",
       "      <th></th>\n",
       "      <th></th>\n",
       "      <th></th>\n",
       "      <th></th>\n",
       "      <th></th>\n",
       "      <th></th>\n",
       "      <th></th>\n",
       "    </tr>\n",
       "  </thead>\n",
       "  <tbody>\n",
       "    <tr>\n",
       "      <th>1</th>\n",
       "      <td>22.0</td>\n",
       "      <td>621.727273</td>\n",
       "      <td>176.143659</td>\n",
       "      <td>381.0</td>\n",
       "      <td>464.50</td>\n",
       "      <td>586.0</td>\n",
       "      <td>712.00</td>\n",
       "      <td>1030.0</td>\n",
       "    </tr>\n",
       "    <tr>\n",
       "      <th>2</th>\n",
       "      <td>21.0</td>\n",
       "      <td>594.952381</td>\n",
       "      <td>271.327565</td>\n",
       "      <td>197.0</td>\n",
       "      <td>415.00</td>\n",
       "      <td>509.0</td>\n",
       "      <td>810.00</td>\n",
       "      <td>1114.0</td>\n",
       "    </tr>\n",
       "    <tr>\n",
       "      <th>3</th>\n",
       "      <td>31.0</td>\n",
       "      <td>627.548387</td>\n",
       "      <td>253.053860</td>\n",
       "      <td>168.0</td>\n",
       "      <td>469.00</td>\n",
       "      <td>598.0</td>\n",
       "      <td>745.50</td>\n",
       "      <td>1316.0</td>\n",
       "    </tr>\n",
       "    <tr>\n",
       "      <th>4</th>\n",
       "      <td>24.0</td>\n",
       "      <td>582.291667</td>\n",
       "      <td>190.011322</td>\n",
       "      <td>355.0</td>\n",
       "      <td>458.00</td>\n",
       "      <td>526.0</td>\n",
       "      <td>650.75</td>\n",
       "      <td>1103.0</td>\n",
       "    </tr>\n",
       "    <tr>\n",
       "      <th>5</th>\n",
       "      <td>34.0</td>\n",
       "      <td>570.941176</td>\n",
       "      <td>211.342741</td>\n",
       "      <td>-14.0</td>\n",
       "      <td>461.50</td>\n",
       "      <td>537.5</td>\n",
       "      <td>681.25</td>\n",
       "      <td>1126.0</td>\n",
       "    </tr>\n",
       "    <tr>\n",
       "      <th>6</th>\n",
       "      <td>34.0</td>\n",
       "      <td>644.588235</td>\n",
       "      <td>257.962543</td>\n",
       "      <td>0.0</td>\n",
       "      <td>468.75</td>\n",
       "      <td>614.5</td>\n",
       "      <td>815.50</td>\n",
       "      <td>1268.0</td>\n",
       "    </tr>\n",
       "    <tr>\n",
       "      <th>7</th>\n",
       "      <td>36.0</td>\n",
       "      <td>559.861111</td>\n",
       "      <td>250.755789</td>\n",
       "      <td>-2.0</td>\n",
       "      <td>442.75</td>\n",
       "      <td>530.0</td>\n",
       "      <td>616.50</td>\n",
       "      <td>1198.0</td>\n",
       "    </tr>\n",
       "  </tbody>\n",
       "</table>\n",
       "</div>"
      ],
      "text/plain": [
       "           count        mean         std    min     25%    50%     75%     max\n",
       "DayOfWeek                                                                     \n",
       "1           22.0  621.727273  176.143659  381.0  464.50  586.0  712.00  1030.0\n",
       "2           21.0  594.952381  271.327565  197.0  415.00  509.0  810.00  1114.0\n",
       "3           31.0  627.548387  253.053860  168.0  469.00  598.0  745.50  1316.0\n",
       "4           24.0  582.291667  190.011322  355.0  458.00  526.0  650.75  1103.0\n",
       "5           34.0  570.941176  211.342741  -14.0  461.50  537.5  681.25  1126.0\n",
       "6           34.0  644.588235  257.962543    0.0  468.75  614.5  815.50  1268.0\n",
       "7           36.0  559.861111  250.755789   -2.0  442.75  530.0  616.50  1198.0"
      ]
     },
     "execution_count": 8,
     "metadata": {},
     "output_type": "execute_result"
    }
   ],
   "source": [
    "dfgroup.groupby(['DayOfWeek'])['DepDelay'].describe()"
   ]
  },
  {
   "cell_type": "markdown",
   "metadata": {},
   "source": [
    "# Modelisation"
   ]
  },
  {
   "cell_type": "code",
   "execution_count": 11,
   "metadata": {},
   "outputs": [
    {
     "name": "stderr",
     "output_type": "stream",
     "text": [
      "<ipython-input-11-027b4d75b0ef>:1: SettingWithCopyWarning: \n",
      "A value is trying to be set on a copy of a slice from a DataFrame.\n",
      "Try using .loc[row_indexer,col_indexer] = value instead\n",
      "\n",
      "See the caveats in the documentation: https://pandas.pydata.org/pandas-docs/stable/user_guide/indexing.html#returning-a-view-versus-a-copy\n",
      "  dfgroup['Month'] = dfgroup['Month'].apply(str)\n",
      "<ipython-input-11-027b4d75b0ef>:2: SettingWithCopyWarning: \n",
      "A value is trying to be set on a copy of a slice from a DataFrame.\n",
      "Try using .loc[row_indexer,col_indexer] = value instead\n",
      "\n",
      "See the caveats in the documentation: https://pandas.pydata.org/pandas-docs/stable/user_guide/indexing.html#returning-a-view-versus-a-copy\n",
      "  dfgroup['DayofMonth'] = dfgroup['DayofMonth'].apply(str)\n",
      "<ipython-input-11-027b4d75b0ef>:3: SettingWithCopyWarning: \n",
      "A value is trying to be set on a copy of a slice from a DataFrame.\n",
      "Try using .loc[row_indexer,col_indexer] = value instead\n",
      "\n",
      "See the caveats in the documentation: https://pandas.pydata.org/pandas-docs/stable/user_guide/indexing.html#returning-a-view-versus-a-copy\n",
      "  dfgroup['DayOfWeek'] = dfgroup['DayOfWeek'].apply(str)\n"
     ]
    }
   ],
   "source": [
    "dfgroup['Month'] = dfgroup['Month'].apply(str)\n",
    "dfgroup['DayofMonth'] = dfgroup['DayofMonth'].apply(str)\n",
    "dfgroup['DayOfWeek'] = dfgroup['DayOfWeek'].apply(str)\n",
    "\n",
    "X = pd.get_dummies(dfgroup[['Month','DayofMonth','DayOfWeek','UniqueCarrier','Origin','Dest']])\n",
    "X = X.add(dfgroup[['TaxiIn','TaxiOut','DepTime']],fill_value=0)"
   ]
  },
  {
   "cell_type": "code",
   "execution_count": 12,
   "metadata": {},
   "outputs": [],
   "source": [
    "from sklearn.ensemble import RandomForestRegressor\n",
    "\n",
    "clf = RandomForestRegressor(n_estimators=1000,n_jobs=-1).fit(X,dfgroup['ArrDelay'])\n",
    "importance = clf.feature_importances_"
   ]
  },
  {
   "cell_type": "code",
   "execution_count": 14,
   "metadata": {},
   "outputs": [
    {
     "data": {
      "text/plain": [
       "array([2.73465367e-03, 6.75330087e-03, 3.29720323e-03, 3.48991325e-03,\n",
       "       2.37611578e-03, 3.41289259e-03, 4.05563496e-03, 6.55866617e-04,\n",
       "       8.62995529e-04, 4.45795135e-03, 8.12169936e-04, 1.15454120e-03,\n",
       "       7.97834999e-04, 1.50273497e-03, 3.10822910e-03, 1.70499777e-04,\n",
       "       5.77375274e-03, 3.29572577e-03, 6.07339831e-03, 1.14936227e-02,\n",
       "       1.49188025e-03, 1.16254561e-03, 1.32985878e-03, 7.41780780e-04,\n",
       "       1.26395120e-03, 4.05262931e-04, 1.03064079e-03, 6.85502602e-04,\n",
       "       6.95734460e-03, 1.37899720e-03, 1.98099306e-02, 1.28102310e-04,\n",
       "       1.41951466e-02, 8.74953014e-04, 1.48680817e-03, 1.17802251e-03,\n",
       "       2.10214063e-03, 5.49152310e-03, 3.13165685e-01, 3.48983585e-04,\n",
       "       5.42367986e-04, 2.75056298e-05, 8.26928703e-04, 8.26151148e-04,\n",
       "       1.77591506e-05, 1.73634890e-03, 5.37986520e-02, 2.76610807e-04,\n",
       "       1.13318488e-02, 1.69636569e-04, 6.14022586e-04, 1.53678963e-02,\n",
       "       5.04896990e-05, 7.69843801e-05, 2.44753038e-03, 1.23941467e-02,\n",
       "       2.24021328e-05, 5.93544672e-03, 7.93455525e-04, 2.53766798e-03,\n",
       "       2.53278053e-04, 9.49907868e-04, 2.41408160e-04, 3.85436745e-03,\n",
       "       3.11095621e-03, 1.05433192e-04, 5.57049650e-05, 6.60479533e-03,\n",
       "       9.30291606e-04, 3.82549579e-03, 7.78213088e-03, 3.17274985e-03,\n",
       "       1.95398738e-02, 1.81124929e-03, 2.87746835e-03, 2.54890963e-03,\n",
       "       1.05502514e-02, 5.25193771e-03, 6.03945448e-03, 2.12397218e-03,\n",
       "       4.56982626e-04, 3.34861978e-05, 5.81430778e-04, 8.30000443e-04,\n",
       "       4.70897061e-04, 1.46643801e-05, 1.59023827e-02, 1.01046381e-03,\n",
       "       2.43764338e-03, 3.63390869e-03, 2.31658208e-03, 3.41823176e-03,\n",
       "       7.65910416e-02, 4.50867521e-04, 7.11994018e-04, 1.31174610e-06,\n",
       "       6.03669639e-03, 9.10939180e-05, 8.30803559e-03, 3.08645466e-05,\n",
       "       4.06664264e-04, 1.23231526e-03, 2.83787160e-02, 2.16237811e-03,\n",
       "       3.16382757e-04, 7.66959598e-04, 3.59016174e-04, 2.32871452e-03,\n",
       "       3.82403585e-02, 7.31395479e-02, 4.38598605e-03, 6.59049621e-03,\n",
       "       9.83646039e-04, 2.55122816e-03, 1.46611151e-03, 1.95219473e-05,\n",
       "       1.65307313e-04, 1.07489131e-02, 6.40704751e-02, 4.61582294e-03,\n",
       "       8.11273621e-04])"
      ]
     },
     "execution_count": 14,
     "metadata": {},
     "output_type": "execute_result"
    }
   ],
   "source": [
    "importance"
   ]
  },
  {
   "cell_type": "code",
   "execution_count": 15,
   "metadata": {},
   "outputs": [
    {
     "data": {
      "text/plain": [
       "Index(['DepTime'], dtype='object')"
      ]
     },
     "execution_count": 15,
     "metadata": {},
     "output_type": "execute_result"
    }
   ],
   "source": [
    "X.columns[importance == max(importance)]"
   ]
  },
  {
   "cell_type": "code",
   "execution_count": 16,
   "metadata": {},
   "outputs": [
    {
     "data": {
      "text/plain": [
       "array([[ 1.        , -0.21749167],\n",
       "       [-0.21749167,  1.        ]])"
      ]
     },
     "execution_count": 16,
     "metadata": {},
     "output_type": "execute_result"
    }
   ],
   "source": [
    "np.corrcoef(dfgroup['DepTime'],dfgroup['ArrDelay'])"
   ]
  },
  {
   "cell_type": "code",
   "execution_count": null,
   "metadata": {},
   "outputs": [],
   "source": [
    "# negative correlation: the higher the value of the 1st column the lower the value of the 2nd one - this means that the flights that have a later departure time are those that have a lower delay time"
   ]
  }
 ],
 "metadata": {
  "kernelspec": {
   "display_name": "Python 3",
   "language": "python",
   "name": "python3"
  },
  "language_info": {
   "codemirror_mode": {
    "name": "ipython",
    "version": 3
   },
   "file_extension": ".py",
   "mimetype": "text/x-python",
   "name": "python",
   "nbconvert_exporter": "python",
   "pygments_lexer": "ipython3",
   "version": "3.8.5"
  }
 },
 "nbformat": 4,
 "nbformat_minor": 4
}
